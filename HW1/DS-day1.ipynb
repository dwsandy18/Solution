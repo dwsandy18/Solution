{
 "cells": [
  {
   "cell_type": "code",
   "execution_count": 2,
   "metadata": {
    "collapsed": false
   },
   "outputs": [
    {
     "name": "stdout",
     "output_type": "stream",
     "text": [
      "/Users/z0019dc\r\n"
     ]
    }
   ],
   "source": [
    "!pwd\n"
   ]
  },
  {
   "cell_type": "code",
   "execution_count": 9,
   "metadata": {
    "collapsed": false
   },
   "outputs": [
    {
     "name": "stdout",
     "output_type": "stream",
     "text": [
      "/Users/z0019dc/Notebooks/Solution\n"
     ]
    }
   ],
   "source": [
    "%cd /Users/z0019dc/Notebooks/Solution"
   ]
  },
  {
   "cell_type": "code",
   "execution_count": 4,
   "metadata": {
    "collapsed": false
   },
   "outputs": [
    {
     "name": "stdout",
     "output_type": "stream",
     "text": [
      "mkdir: HW1: File exists\r\n"
     ]
    }
   ],
   "source": [
    "!mkdir HW1\n"
   ]
  },
  {
   "cell_type": "code",
   "execution_count": 10,
   "metadata": {
    "collapsed": false
   },
   "outputs": [
    {
     "name": "stdout",
     "output_type": "stream",
     "text": [
      "/Users/z0019dc/Notebooks/Solution/HW1\n"
     ]
    }
   ],
   "source": [
    "%cd HW1"
   ]
  },
  {
   "cell_type": "code",
   "execution_count": 6,
   "metadata": {
    "collapsed": false
   },
   "outputs": [
    {
     "name": "stdout",
     "output_type": "stream",
     "text": [
      "S 2\n",
      "a 2\n",
      "b 2\n",
      "d 2\n",
      "e 5\n",
      "g 1\n",
      "h 1\n",
      "i 1\n",
      "n 3\n",
      "p 3\n",
      "q 2\n",
      "r 1\n",
      "t 4\n",
      "w 1\n",
      "y 3\n"
     ]
    }
   ],
   "source": [
    "\n",
    "#HW1.1\n",
    "#Description Write a program that reads a string and returns a table of the letters of the \n",
    "#alphabet in alphabetical order which occur in the string together with the number of \n",
    "#times each letter occurs. Case should be ignored. A sample output of the program when the user enters the data \n",
    "#“ThiS is String with Upper and lower case Letters”, would look this this:\n",
    "#a 2 c 1 d 1 e 5 g 1 h 2 i 4 l 2 n 2 o 1 p 2 r 4 s 5 t 5 u 1 w 2\n",
    "\n",
    "#soln :\n",
    "\n",
    "def count_letter(mystring):\n",
    "    letter = {}\n",
    "# count occurrences of character\n",
    "    for a in mystring:\n",
    "        letter[a] = mystring.count(a)\n",
    "# print the result\n",
    "    for k in sorted(letter):\n",
    "        print (k + ' ' + str(letter[k]))\n",
    "mystring='SandeeptypingqwqertthyytbbSandeep'\n",
    "count_letter(mystring)"
   ]
  },
  {
   "cell_type": "code",
   "execution_count": 6,
   "metadata": {
    "collapsed": true
   },
   "outputs": [],
   "source": [
    "#HW1.2\n",
    "#Give the Python interpreter’s response to each of the following from a continuous interpreter session:"
   ]
  },
  {
   "cell_type": "code",
   "execution_count": 7,
   "metadata": {
    "collapsed": false
   },
   "outputs": [
    {
     "data": {
      "text/plain": [
       "35"
      ]
     },
     "execution_count": 7,
     "metadata": {},
     "output_type": "execute_result"
    }
   ],
   "source": [
    "d = {\"apples\": 15, \"bananas\": 35, \"grapes\": 12}\n",
    "d[\"bananas\"]"
   ]
  },
  {
   "cell_type": "code",
   "execution_count": 8,
   "metadata": {
    "collapsed": false
   },
   "outputs": [
    {
     "data": {
      "text/plain": [
       "4"
      ]
     },
     "execution_count": 8,
     "metadata": {},
     "output_type": "execute_result"
    }
   ],
   "source": [
    "d[\"oranges\"] = 20\n",
    "len(d)"
   ]
  },
  {
   "cell_type": "code",
   "execution_count": 9,
   "metadata": {
    "collapsed": false
   },
   "outputs": [
    {
     "data": {
      "text/plain": [
       "True"
      ]
     },
     "execution_count": 9,
     "metadata": {},
     "output_type": "execute_result"
    }
   ],
   "source": [
    "\"grapes\" in d"
   ]
  },
  {
   "cell_type": "code",
   "execution_count": 10,
   "metadata": {
    "collapsed": false
   },
   "outputs": [
    {
     "ename": "KeyError",
     "evalue": "'pears'",
     "output_type": "error",
     "traceback": [
      "\u001b[0;31m---------------------------------------------------------------------------\u001b[0m",
      "\u001b[0;31mKeyError\u001b[0m                                  Traceback (most recent call last)",
      "\u001b[0;32m<ipython-input-10-fd5e266bd276>\u001b[0m in \u001b[0;36m<module>\u001b[0;34m()\u001b[0m\n\u001b[0;32m----> 1\u001b[0;31m \u001b[0md\u001b[0m\u001b[0;34m[\u001b[0m\u001b[0;34m\"pears\"\u001b[0m\u001b[0;34m]\u001b[0m\u001b[0;34m\u001b[0m\u001b[0m\n\u001b[0m",
      "\u001b[0;31mKeyError\u001b[0m: 'pears'"
     ]
    }
   ],
   "source": [
    "d[\"pears\"]"
   ]
  },
  {
   "cell_type": "code",
   "execution_count": null,
   "metadata": {
    "collapsed": false
   },
   "outputs": [],
   "source": [
    "d.get(\"pears\", 0)"
   ]
  },
  {
   "cell_type": "code",
   "execution_count": null,
   "metadata": {
    "collapsed": false
   },
   "outputs": [],
   "source": [
    "fruits = list(d.keys())\n",
    "fruits.sort()\n",
    "print(fruits)"
   ]
  },
  {
   "cell_type": "code",
   "execution_count": null,
   "metadata": {
    "collapsed": false
   },
   "outputs": [],
   "source": [
    "del d[\"apples\"]\n",
    "\"apples\" in d"
   ]
  },
  {
   "cell_type": "code",
   "execution_count": 7,
   "metadata": {
    "collapsed": false
   },
   "outputs": [
    {
     "data": {
      "text/plain": [
       "{'strawberries': 10}"
      ]
     },
     "execution_count": 7,
     "metadata": {},
     "output_type": "execute_result"
    }
   ],
   "source": [
    "\n",
    "def add_fruit(inventory, fruit, quantity=0):\n",
    "    inventory[fruit]=quantity\n",
    "    return inventory\n",
    "\n",
    "new_inventory = {}\n",
    "add_fruit(new_inventory, \"strawberries\", 10)\n"
   ]
  },
  {
   "cell_type": "code",
   "execution_count": 8,
   "metadata": {
    "collapsed": false
   },
   "outputs": [
    {
     "data": {
      "text/plain": [
       "True"
      ]
     },
     "execution_count": 8,
     "metadata": {},
     "output_type": "execute_result"
    }
   ],
   "source": [
    "\"strawberries\" in new_inventory\n",
    "\n"
   ]
  },
  {
   "cell_type": "code",
   "execution_count": 9,
   "metadata": {
    "collapsed": false
   },
   "outputs": [
    {
     "data": {
      "text/plain": [
       "True"
      ]
     },
     "execution_count": 9,
     "metadata": {},
     "output_type": "execute_result"
    }
   ],
   "source": [
    "new_inventory[\"strawberries\"] == 10"
   ]
  },
  {
   "cell_type": "code",
   "execution_count": null,
   "metadata": {
    "collapsed": false
   },
   "outputs": [],
   "source": [
    "add_fruit(new_inventory, \"strawberries\", 25)\n",
    "new_inventory[\"strawberries\"] == 35"
   ]
  },
  {
   "cell_type": "code",
   "execution_count": 11,
   "metadata": {
    "collapsed": false
   },
   "outputs": [
    {
     "name": "stdout",
     "output_type": "stream",
     "text": [
      "  % Total    % Received % Xferd  Average Speed   Time    Time     Time  Current\n",
      "                                 Dload  Upload   Total   Spent    Left  Speed\n",
      "100  1318  100  1318    0     0   1194      0  0:00:01  0:00:01 --:--:--  1196\n"
     ]
    }
   ],
   "source": [
    "#HW1.3\n",
    "\n",
    "!curl 'http://www.gutenberg.org/cache/epub/11/pg11.txt' -o alicesTExtFilename.txt"
   ]
  },
  {
   "cell_type": "code",
   "execution_count": 12,
   "metadata": {
    "collapsed": false
   },
   "outputs": [
    {
     "name": "stdout",
     "output_type": "stream",
     "text": [
      "﻿Project Gutenberg's Alice's Adventures in Wonderland, by Lewis Carroll\r",
      "\r\n",
      "\r",
      "\r\n",
      "This eBook is for the use of anyone anywhere at no cost and with\r",
      "\r\n",
      "almost no restrictions whatsoever.  You may copy it, give it away or\r",
      "\r\n",
      "re-use it under the terms of the Project Gutenberg License included\r",
      "\r\n",
      "with this eBook or online at www.gutenberg.org\r",
      "\r\n",
      "\r",
      "\r\n",
      "\r",
      "\r\n",
      "Title: Alice's Adventures in Wonderland\r",
      "\r\n",
      "\r",
      "\r\n"
     ]
    }
   ],
   "source": [
    "!head alicesTExtFilename.txt"
   ]
  },
  {
   "cell_type": "code",
   "execution_count": 31,
   "metadata": {
    "collapsed": false
   },
   "outputs": [
    {
     "name": "stdout",
     "output_type": "stream",
     "text": [
      "('count of alice is : ', 403)\n"
     ]
    }
   ],
   "source": [
    "book_text = open('alice.txt', 'r')\n",
    "\n",
    "text = book_text.readlines()\n",
    "\n",
    "import sys, re, string\n",
    "def alphaNumericWordTokenizer(line):\n",
    "    #preprocess the string; \n",
    "    #  focus on alphanumeric token\n",
    "    #  replace repeating spaces/tab with a single space\n",
    "    regex = re.compile('[%s]' % re.escape(string.punctuation))\n",
    "    #replace each punctuation character with a space\n",
    "    line = regex.sub(' ', line.lower())  \n",
    "\n",
    "    #replace multiple spacees with a single space\n",
    "    line = re.sub( '\\s+', ' ', line) \n",
    "    # split the line into words\n",
    "    words = line.split(\" \")\n",
    "    return(words)\n",
    "\n",
    "counts = {}\n",
    "for line in text:\n",
    "    words = alphaNumericWordTokenizer(line)\n",
    "    for w in words:\n",
    "        counts[w] = counts.get (w, 0) +1\n",
    "\n",
    "del counts['']\n",
    "\n",
    "w_keys = counts.keys()\n",
    "w_keys.sort()\n",
    "outfile = open('alices_word.txt', 'w')\n",
    "outfile.write(\"Word \\t \\t Count \\n\")\n",
    "outfile.write(\"======================= \\n\")\n",
    "for word in w_keys:\n",
    "    outfile.write(\"%-12s%d\\n\" % (word.lower(), counts[word]))\n",
    "outfile.close()\n",
    "\n",
    "print (\"count of alice is : \",counts['alice'])\n"
   ]
  },
  {
   "cell_type": "code",
   "execution_count": 29,
   "metadata": {
    "collapsed": false
   },
   "outputs": [
    {
     "name": "stdout",
     "output_type": "stream",
     "text": [
      "('longest word is :', ('unenforceability', 16))\n"
     ]
    }
   ],
   "source": [
    "#HW1.4 \n",
    "#What is the longest word in Alice in Wonderland? How many characters does it have?\n",
    "file=open(\"/Users/z0019dc/Notebooks/Solution/HW1/alice.txt\",\"r+\")\n",
    "d = {}\n",
    "d1=[]\n",
    "#for word in file.read().split():  \n",
    "    #d[word]=len(word)\n",
    "#sorted(d.items(), key=lambda x: (-x[1], x[0]))\n",
    "\n",
    "for line in text:\n",
    "    word = alphaNumericWordTokenizer(line) \n",
    "    for word1 in word :\n",
    "        d[word1]=len(word1)\n",
    "d1=sorted(d.items(), key=lambda x: (-x[1], x[0]))\n",
    "print (\"longest word is :\", d1[0])"
   ]
  }
 ],
 "metadata": {
  "kernelspec": {
   "display_name": "Python 2",
   "language": "python",
   "name": "python2"
  },
  "language_info": {
   "codemirror_mode": {
    "name": "ipython",
    "version": 2
   },
   "file_extension": ".py",
   "mimetype": "text/x-python",
   "name": "python",
   "nbconvert_exporter": "python",
   "pygments_lexer": "ipython2",
   "version": "2.7.11"
  }
 },
 "nbformat": 4,
 "nbformat_minor": 0
}
